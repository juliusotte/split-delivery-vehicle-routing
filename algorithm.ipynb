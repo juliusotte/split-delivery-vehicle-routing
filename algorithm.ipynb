{
 "cells": [
  {
   "cell_type": "markdown",
   "id": "68d0aca9-9929-44ff-bae2-ecd09b762f36",
   "metadata": {},
   "source": [
    "# Split-Delivery Vehicle Routing Problem (Algorithm)"
   ]
  },
  {
   "cell_type": "markdown",
   "id": "00b5d478-871c-4f05-8507-23c273e1f679",
   "metadata": {},
   "source": [
    "## Data"
   ]
  },
  {
   "cell_type": "code",
   "execution_count": 544,
   "id": "ac0c2c39-5633-4715-862e-805388799b9b",
   "metadata": {},
   "outputs": [],
   "source": [
    "!rm -rf ds/*\n",
    "!cp -r datasets/SetAInstance001.orders ds/\n",
    "!cp -r datasets/SetAInstance001.network ds/"
   ]
  },
  {
   "cell_type": "code",
   "execution_count": 545,
   "id": "9a9ea8fb-f474-4a09-bdf2-0f3d57bb3f44",
   "metadata": {},
   "outputs": [],
   "source": [
    "ORDER_DATA_FILE = 'ds/SetAInstance001.orders'\n",
    "NETWORK_DATA_FILE = 'ds/SetAInstance001.network'"
   ]
  },
  {
   "cell_type": "code",
   "execution_count": 546,
   "id": "595f37f6-6a61-42b3-846a-de85892c0039",
   "metadata": {},
   "outputs": [],
   "source": [
    "# Restructure order data\n",
    "with open(ORDER_DATA_FILE, 'r') as fin:\n",
    "    data = fin.read().splitlines(True)\n",
    "    ds: list = list()\n",
    "    for l in data:\n",
    "        ds.append(l.replace('#', ''))\n",
    "\n",
    "with open(ORDER_DATA_FILE, 'w') as fout:\n",
    "    fout.writelines(ds[1:])\n",
    "    \n",
    "# Restructure network data\n",
    "with open(NETWORK_DATA_FILE, 'r') as fin:\n",
    "    data = fin.read().splitlines(True)\n",
    "    ds: list = list()\n",
    "    for l in data:\n",
    "        ds.append(l.replace('#', ''))\n",
    "with open(NETWORK_DATA_FILE, 'w') as fout:\n",
    "    fout.writelines(ds[1:])\n",
    "    \n",
    "splitted_data: list = list()\n",
    "\n",
    "with open(NETWORK_DATA_FILE, 'r') as fin:\n",
    "    data = fin.read().splitlines(True)\n",
    "    ds: list = list()\n",
    "    reached_distance_set: bool = False\n",
    "    \n",
    "    for l in data:\n",
    "        if 'network information' in l:\n",
    "            reached_distance_set = True\n",
    "            continue\n",
    "        if reached_distance_set:\n",
    "            splitted_data.append(l)\n",
    "            \n",
    "with open(NETWORK_DATA_FILE, 'w') as fout:\n",
    "    fout.writelines(splitted_data)"
   ]
  },
  {
   "cell_type": "code",
   "execution_count": 547,
   "id": "f0abff2b-eea8-4a0d-afc6-1257cdd0128b",
   "metadata": {},
   "outputs": [],
   "source": [
    "import pandas as pd"
   ]
  },
  {
   "cell_type": "code",
   "execution_count": 548,
   "id": "d1f42eea-71a8-4ebd-ba48-c46b7480fe74",
   "metadata": {},
   "outputs": [],
   "source": [
    "order_data: pd.DataFrame = pd.read_csv(ORDER_DATA_FILE, sep=';', parse_dates=True)\n",
    "network_data: pd.DataFrame = pd.read_csv(NETWORK_DATA_FILE, sep=';', parse_dates=True)"
   ]
  },
  {
   "cell_type": "code",
   "execution_count": 549,
   "id": "4cbdb9ae-3a79-4e25-aea9-63dd87ed12ff",
   "metadata": {},
   "outputs": [
    {
     "name": "stdout",
     "output_type": "stream",
     "text": [
      "<class 'pandas.core.frame.DataFrame'>\n",
      "RangeIndex: 500 entries, 0 to 499\n",
      "Data columns (total 9 columns):\n",
      " #   Column            Non-Null Count  Dtype  \n",
      "---  ------            --------------  -----  \n",
      " 0   ORD-keyword       500 non-null    object \n",
      " 1   number            500 non-null    int64  \n",
      " 2   originIndex       500 non-null    int64  \n",
      " 3   originCode        500 non-null    object \n",
      " 4   destinationIndex  500 non-null    int64  \n",
      " 5   destinationCode   500 non-null    object \n",
      " 6   arrivalDate       500 non-null    object \n",
      " 7   dueDate           500 non-null    object \n",
      " 8   Unnamed: 8        0 non-null      float64\n",
      "dtypes: float64(1), int64(3), object(5)\n",
      "memory usage: 35.3+ KB\n"
     ]
    }
   ],
   "source": [
    "order_data.info()"
   ]
  },
  {
   "cell_type": "code",
   "execution_count": 550,
   "id": "86496ebd-1de0-4d97-9522-71bcb1ce80ee",
   "metadata": {},
   "outputs": [
    {
     "data": {
      "text/html": [
       "<div>\n",
       "<style scoped>\n",
       "    .dataframe tbody tr th:only-of-type {\n",
       "        vertical-align: middle;\n",
       "    }\n",
       "\n",
       "    .dataframe tbody tr th {\n",
       "        vertical-align: top;\n",
       "    }\n",
       "\n",
       "    .dataframe thead th {\n",
       "        text-align: right;\n",
       "    }\n",
       "</style>\n",
       "<table border=\"1\" class=\"dataframe\">\n",
       "  <thead>\n",
       "    <tr style=\"text-align: right;\">\n",
       "      <th></th>\n",
       "      <th>ORD-keyword</th>\n",
       "      <th>number</th>\n",
       "      <th>originIndex</th>\n",
       "      <th>originCode</th>\n",
       "      <th>destinationIndex</th>\n",
       "      <th>destinationCode</th>\n",
       "      <th>arrivalDate</th>\n",
       "      <th>dueDate</th>\n",
       "      <th>Unnamed: 8</th>\n",
       "    </tr>\n",
       "  </thead>\n",
       "  <tbody>\n",
       "    <tr>\n",
       "      <th>490</th>\n",
       "      <td>ORD</td>\n",
       "      <td>490</td>\n",
       "      <td>10</td>\n",
       "      <td>Wuppertal</td>\n",
       "      <td>13</td>\n",
       "      <td>Neuss</td>\n",
       "      <td>10.05.2022</td>\n",
       "      <td>11.05.2022</td>\n",
       "      <td>NaN</td>\n",
       "    </tr>\n",
       "    <tr>\n",
       "      <th>491</th>\n",
       "      <td>ORD</td>\n",
       "      <td>491</td>\n",
       "      <td>10</td>\n",
       "      <td>Wuppertal</td>\n",
       "      <td>13</td>\n",
       "      <td>Neuss</td>\n",
       "      <td>10.05.2022</td>\n",
       "      <td>12.05.2022</td>\n",
       "      <td>NaN</td>\n",
       "    </tr>\n",
       "    <tr>\n",
       "      <th>492</th>\n",
       "      <td>ORD</td>\n",
       "      <td>492</td>\n",
       "      <td>10</td>\n",
       "      <td>Wuppertal</td>\n",
       "      <td>13</td>\n",
       "      <td>Neuss</td>\n",
       "      <td>10.05.2022</td>\n",
       "      <td>11.05.2022</td>\n",
       "      <td>NaN</td>\n",
       "    </tr>\n",
       "    <tr>\n",
       "      <th>493</th>\n",
       "      <td>ORD</td>\n",
       "      <td>493</td>\n",
       "      <td>10</td>\n",
       "      <td>Wuppertal</td>\n",
       "      <td>7</td>\n",
       "      <td>Oberhausen</td>\n",
       "      <td>10.05.2022</td>\n",
       "      <td>12.05.2022</td>\n",
       "      <td>NaN</td>\n",
       "    </tr>\n",
       "    <tr>\n",
       "      <th>494</th>\n",
       "      <td>ORD</td>\n",
       "      <td>494</td>\n",
       "      <td>10</td>\n",
       "      <td>Wuppertal</td>\n",
       "      <td>7</td>\n",
       "      <td>Oberhausen</td>\n",
       "      <td>10.05.2022</td>\n",
       "      <td>11.05.2022</td>\n",
       "      <td>NaN</td>\n",
       "    </tr>\n",
       "    <tr>\n",
       "      <th>495</th>\n",
       "      <td>ORD</td>\n",
       "      <td>495</td>\n",
       "      <td>10</td>\n",
       "      <td>Wuppertal</td>\n",
       "      <td>0</td>\n",
       "      <td>Osnabrück</td>\n",
       "      <td>10.05.2022</td>\n",
       "      <td>12.05.2022</td>\n",
       "      <td>NaN</td>\n",
       "    </tr>\n",
       "    <tr>\n",
       "      <th>496</th>\n",
       "      <td>ORD</td>\n",
       "      <td>496</td>\n",
       "      <td>10</td>\n",
       "      <td>Wuppertal</td>\n",
       "      <td>27</td>\n",
       "      <td>Recklinghausen</td>\n",
       "      <td>10.05.2022</td>\n",
       "      <td>12.05.2022</td>\n",
       "      <td>NaN</td>\n",
       "    </tr>\n",
       "    <tr>\n",
       "      <th>497</th>\n",
       "      <td>ORD</td>\n",
       "      <td>497</td>\n",
       "      <td>10</td>\n",
       "      <td>Wuppertal</td>\n",
       "      <td>9</td>\n",
       "      <td>Solingen</td>\n",
       "      <td>10.05.2022</td>\n",
       "      <td>12.05.2022</td>\n",
       "      <td>NaN</td>\n",
       "    </tr>\n",
       "    <tr>\n",
       "      <th>498</th>\n",
       "      <td>ORD</td>\n",
       "      <td>498</td>\n",
       "      <td>10</td>\n",
       "      <td>Wuppertal</td>\n",
       "      <td>14</td>\n",
       "      <td>Viersen</td>\n",
       "      <td>10.05.2022</td>\n",
       "      <td>12.05.2022</td>\n",
       "      <td>NaN</td>\n",
       "    </tr>\n",
       "    <tr>\n",
       "      <th>499</th>\n",
       "      <td>ORD</td>\n",
       "      <td>499</td>\n",
       "      <td>10</td>\n",
       "      <td>Wuppertal</td>\n",
       "      <td>36</td>\n",
       "      <td>Witten</td>\n",
       "      <td>10.05.2022</td>\n",
       "      <td>11.05.2022</td>\n",
       "      <td>NaN</td>\n",
       "    </tr>\n",
       "  </tbody>\n",
       "</table>\n",
       "</div>"
      ],
      "text/plain": [
       "    ORD-keyword  number  originIndex originCode  destinationIndex  \\\n",
       "490         ORD     490           10  Wuppertal                13   \n",
       "491         ORD     491           10  Wuppertal                13   \n",
       "492         ORD     492           10  Wuppertal                13   \n",
       "493         ORD     493           10  Wuppertal                 7   \n",
       "494         ORD     494           10  Wuppertal                 7   \n",
       "495         ORD     495           10  Wuppertal                 0   \n",
       "496         ORD     496           10  Wuppertal                27   \n",
       "497         ORD     497           10  Wuppertal                 9   \n",
       "498         ORD     498           10  Wuppertal                14   \n",
       "499         ORD     499           10  Wuppertal                36   \n",
       "\n",
       "    destinationCode arrivalDate     dueDate  Unnamed: 8  \n",
       "490           Neuss  10.05.2022  11.05.2022         NaN  \n",
       "491           Neuss  10.05.2022  12.05.2022         NaN  \n",
       "492           Neuss  10.05.2022  11.05.2022         NaN  \n",
       "493      Oberhausen  10.05.2022  12.05.2022         NaN  \n",
       "494      Oberhausen  10.05.2022  11.05.2022         NaN  \n",
       "495       Osnabrück  10.05.2022  12.05.2022         NaN  \n",
       "496  Recklinghausen  10.05.2022  12.05.2022         NaN  \n",
       "497        Solingen  10.05.2022  12.05.2022         NaN  \n",
       "498         Viersen  10.05.2022  12.05.2022         NaN  \n",
       "499          Witten  10.05.2022  11.05.2022         NaN  "
      ]
     },
     "execution_count": 550,
     "metadata": {},
     "output_type": "execute_result"
    }
   ],
   "source": [
    "order_data.tail(10)"
   ]
  },
  {
   "cell_type": "code",
   "execution_count": 551,
   "id": "acb68ff0-8fe1-484c-89f1-6c14c491df09",
   "metadata": {},
   "outputs": [
    {
     "name": "stdout",
     "output_type": "stream",
     "text": [
      "<class 'pandas.core.frame.DataFrame'>\n",
      "RangeIndex: 1764 entries, 0 to 1763\n",
      "Data columns (total 6 columns):\n",
      " #   Column                                Non-Null Count  Dtype \n",
      "---  ------                                --------------  ----- \n",
      " 0   ODP-keyword(Origin-Destination-Pair)  1764 non-null   object\n",
      " 1   originIndex                           1764 non-null   int64 \n",
      " 2   originName                            1764 non-null   object\n",
      " 3   destinationIndex                      1764 non-null   int64 \n",
      " 4   destinationName                       1764 non-null   object\n",
      " 5   distanceKM                            1764 non-null   int64 \n",
      "dtypes: int64(3), object(3)\n",
      "memory usage: 82.8+ KB\n"
     ]
    }
   ],
   "source": [
    "network_data.info()"
   ]
  },
  {
   "cell_type": "code",
   "execution_count": 552,
   "id": "81bb51d6-9975-4bae-a25a-1b6433b8a88b",
   "metadata": {},
   "outputs": [
    {
     "data": {
      "text/html": [
       "<div>\n",
       "<style scoped>\n",
       "    .dataframe tbody tr th:only-of-type {\n",
       "        vertical-align: middle;\n",
       "    }\n",
       "\n",
       "    .dataframe tbody tr th {\n",
       "        vertical-align: top;\n",
       "    }\n",
       "\n",
       "    .dataframe thead th {\n",
       "        text-align: right;\n",
       "    }\n",
       "</style>\n",
       "<table border=\"1\" class=\"dataframe\">\n",
       "  <thead>\n",
       "    <tr style=\"text-align: right;\">\n",
       "      <th></th>\n",
       "      <th>ODP-keyword(Origin-Destination-Pair)</th>\n",
       "      <th>originIndex</th>\n",
       "      <th>originName</th>\n",
       "      <th>destinationIndex</th>\n",
       "      <th>destinationName</th>\n",
       "      <th>distanceKM</th>\n",
       "    </tr>\n",
       "  </thead>\n",
       "  <tbody>\n",
       "    <tr>\n",
       "      <th>0</th>\n",
       "      <td>ODP</td>\n",
       "      <td>0</td>\n",
       "      <td>Osnabrück</td>\n",
       "      <td>0</td>\n",
       "      <td>Osnabrück</td>\n",
       "      <td>0</td>\n",
       "    </tr>\n",
       "    <tr>\n",
       "      <th>1</th>\n",
       "      <td>ODP</td>\n",
       "      <td>0</td>\n",
       "      <td>Osnabrück</td>\n",
       "      <td>1</td>\n",
       "      <td>Düsseldorf</td>\n",
       "      <td>182</td>\n",
       "    </tr>\n",
       "    <tr>\n",
       "      <th>2</th>\n",
       "      <td>ODP</td>\n",
       "      <td>0</td>\n",
       "      <td>Osnabrück</td>\n",
       "      <td>2</td>\n",
       "      <td>Duisburg</td>\n",
       "      <td>161</td>\n",
       "    </tr>\n",
       "    <tr>\n",
       "      <th>3</th>\n",
       "      <td>ODP</td>\n",
       "      <td>0</td>\n",
       "      <td>Osnabrück</td>\n",
       "      <td>3</td>\n",
       "      <td>Essen</td>\n",
       "      <td>144</td>\n",
       "    </tr>\n",
       "    <tr>\n",
       "      <th>4</th>\n",
       "      <td>ODP</td>\n",
       "      <td>0</td>\n",
       "      <td>Osnabrück</td>\n",
       "      <td>4</td>\n",
       "      <td>Krefeld</td>\n",
       "      <td>183</td>\n",
       "    </tr>\n",
       "    <tr>\n",
       "      <th>5</th>\n",
       "      <td>ODP</td>\n",
       "      <td>0</td>\n",
       "      <td>Osnabrück</td>\n",
       "      <td>5</td>\n",
       "      <td>Mönchengladbach</td>\n",
       "      <td>205</td>\n",
       "    </tr>\n",
       "    <tr>\n",
       "      <th>6</th>\n",
       "      <td>ODP</td>\n",
       "      <td>0</td>\n",
       "      <td>Osnabrück</td>\n",
       "      <td>6</td>\n",
       "      <td>Mülheim an der Ruhr</td>\n",
       "      <td>154</td>\n",
       "    </tr>\n",
       "    <tr>\n",
       "      <th>7</th>\n",
       "      <td>ODP</td>\n",
       "      <td>0</td>\n",
       "      <td>Osnabrück</td>\n",
       "      <td>7</td>\n",
       "      <td>Oberhausen</td>\n",
       "      <td>152</td>\n",
       "    </tr>\n",
       "    <tr>\n",
       "      <th>8</th>\n",
       "      <td>ODP</td>\n",
       "      <td>0</td>\n",
       "      <td>Osnabrück</td>\n",
       "      <td>8</td>\n",
       "      <td>Remscheid</td>\n",
       "      <td>169</td>\n",
       "    </tr>\n",
       "    <tr>\n",
       "      <th>9</th>\n",
       "      <td>ODP</td>\n",
       "      <td>0</td>\n",
       "      <td>Osnabrück</td>\n",
       "      <td>9</td>\n",
       "      <td>Solingen</td>\n",
       "      <td>175</td>\n",
       "    </tr>\n",
       "    <tr>\n",
       "      <th>10</th>\n",
       "      <td>ODP</td>\n",
       "      <td>0</td>\n",
       "      <td>Osnabrück</td>\n",
       "      <td>10</td>\n",
       "      <td>Wuppertal</td>\n",
       "      <td>158</td>\n",
       "    </tr>\n",
       "    <tr>\n",
       "      <th>11</th>\n",
       "      <td>ODP</td>\n",
       "      <td>0</td>\n",
       "      <td>Osnabrück</td>\n",
       "      <td>11</td>\n",
       "      <td>Ratingen</td>\n",
       "      <td>171</td>\n",
       "    </tr>\n",
       "    <tr>\n",
       "      <th>12</th>\n",
       "      <td>ODP</td>\n",
       "      <td>0</td>\n",
       "      <td>Osnabrück</td>\n",
       "      <td>12</td>\n",
       "      <td>Velbert</td>\n",
       "      <td>156</td>\n",
       "    </tr>\n",
       "    <tr>\n",
       "      <th>13</th>\n",
       "      <td>ODP</td>\n",
       "      <td>0</td>\n",
       "      <td>Osnabrück</td>\n",
       "      <td>13</td>\n",
       "      <td>Neuss</td>\n",
       "      <td>190</td>\n",
       "    </tr>\n",
       "    <tr>\n",
       "      <th>14</th>\n",
       "      <td>ODP</td>\n",
       "      <td>0</td>\n",
       "      <td>Osnabrück</td>\n",
       "      <td>14</td>\n",
       "      <td>Viersen</td>\n",
       "      <td>201</td>\n",
       "    </tr>\n",
       "    <tr>\n",
       "      <th>15</th>\n",
       "      <td>ODP</td>\n",
       "      <td>0</td>\n",
       "      <td>Osnabrück</td>\n",
       "      <td>15</td>\n",
       "      <td>Moers</td>\n",
       "      <td>167</td>\n",
       "    </tr>\n",
       "    <tr>\n",
       "      <th>16</th>\n",
       "      <td>ODP</td>\n",
       "      <td>0</td>\n",
       "      <td>Osnabrück</td>\n",
       "      <td>16</td>\n",
       "      <td>Bonn</td>\n",
       "      <td>230</td>\n",
       "    </tr>\n",
       "    <tr>\n",
       "      <th>17</th>\n",
       "      <td>ODP</td>\n",
       "      <td>0</td>\n",
       "      <td>Osnabrück</td>\n",
       "      <td>17</td>\n",
       "      <td>Köln</td>\n",
       "      <td>209</td>\n",
       "    </tr>\n",
       "    <tr>\n",
       "      <th>18</th>\n",
       "      <td>ODP</td>\n",
       "      <td>0</td>\n",
       "      <td>Osnabrück</td>\n",
       "      <td>18</td>\n",
       "      <td>Leverkusen</td>\n",
       "      <td>196</td>\n",
       "    </tr>\n",
       "    <tr>\n",
       "      <th>19</th>\n",
       "      <td>ODP</td>\n",
       "      <td>0</td>\n",
       "      <td>Osnabrück</td>\n",
       "      <td>19</td>\n",
       "      <td>Aachen</td>\n",
       "      <td>269</td>\n",
       "    </tr>\n",
       "    <tr>\n",
       "      <th>20</th>\n",
       "      <td>ODP</td>\n",
       "      <td>0</td>\n",
       "      <td>Osnabrück</td>\n",
       "      <td>20</td>\n",
       "      <td>Düren</td>\n",
       "      <td>246</td>\n",
       "    </tr>\n",
       "    <tr>\n",
       "      <th>21</th>\n",
       "      <td>ODP</td>\n",
       "      <td>0</td>\n",
       "      <td>Osnabrück</td>\n",
       "      <td>21</td>\n",
       "      <td>Bergisch Gladbach</td>\n",
       "      <td>195</td>\n",
       "    </tr>\n",
       "    <tr>\n",
       "      <th>22</th>\n",
       "      <td>ODP</td>\n",
       "      <td>0</td>\n",
       "      <td>Osnabrück</td>\n",
       "      <td>22</td>\n",
       "      <td>Bottrop</td>\n",
       "      <td>142</td>\n",
       "    </tr>\n",
       "    <tr>\n",
       "      <th>23</th>\n",
       "      <td>ODP</td>\n",
       "      <td>0</td>\n",
       "      <td>Osnabrück</td>\n",
       "      <td>23</td>\n",
       "      <td>Gelsenkirchen</td>\n",
       "      <td>134</td>\n",
       "    </tr>\n",
       "    <tr>\n",
       "      <th>24</th>\n",
       "      <td>ODP</td>\n",
       "      <td>0</td>\n",
       "      <td>Osnabrück</td>\n",
       "      <td>24</td>\n",
       "      <td>Münster</td>\n",
       "      <td>56</td>\n",
       "    </tr>\n",
       "  </tbody>\n",
       "</table>\n",
       "</div>"
      ],
      "text/plain": [
       "   ODP-keyword(Origin-Destination-Pair)  originIndex originName  \\\n",
       "0                                   ODP            0  Osnabrück   \n",
       "1                                   ODP            0  Osnabrück   \n",
       "2                                   ODP            0  Osnabrück   \n",
       "3                                   ODP            0  Osnabrück   \n",
       "4                                   ODP            0  Osnabrück   \n",
       "5                                   ODP            0  Osnabrück   \n",
       "6                                   ODP            0  Osnabrück   \n",
       "7                                   ODP            0  Osnabrück   \n",
       "8                                   ODP            0  Osnabrück   \n",
       "9                                   ODP            0  Osnabrück   \n",
       "10                                  ODP            0  Osnabrück   \n",
       "11                                  ODP            0  Osnabrück   \n",
       "12                                  ODP            0  Osnabrück   \n",
       "13                                  ODP            0  Osnabrück   \n",
       "14                                  ODP            0  Osnabrück   \n",
       "15                                  ODP            0  Osnabrück   \n",
       "16                                  ODP            0  Osnabrück   \n",
       "17                                  ODP            0  Osnabrück   \n",
       "18                                  ODP            0  Osnabrück   \n",
       "19                                  ODP            0  Osnabrück   \n",
       "20                                  ODP            0  Osnabrück   \n",
       "21                                  ODP            0  Osnabrück   \n",
       "22                                  ODP            0  Osnabrück   \n",
       "23                                  ODP            0  Osnabrück   \n",
       "24                                  ODP            0  Osnabrück   \n",
       "\n",
       "    destinationIndex      destinationName  distanceKM  \n",
       "0                  0            Osnabrück           0  \n",
       "1                  1           Düsseldorf         182  \n",
       "2                  2             Duisburg         161  \n",
       "3                  3                Essen         144  \n",
       "4                  4              Krefeld         183  \n",
       "5                  5      Mönchengladbach         205  \n",
       "6                  6  Mülheim an der Ruhr         154  \n",
       "7                  7           Oberhausen         152  \n",
       "8                  8            Remscheid         169  \n",
       "9                  9             Solingen         175  \n",
       "10                10            Wuppertal         158  \n",
       "11                11             Ratingen         171  \n",
       "12                12              Velbert         156  \n",
       "13                13                Neuss         190  \n",
       "14                14              Viersen         201  \n",
       "15                15                Moers         167  \n",
       "16                16                 Bonn         230  \n",
       "17                17                 Köln         209  \n",
       "18                18           Leverkusen         196  \n",
       "19                19               Aachen         269  \n",
       "20                20                Düren         246  \n",
       "21                21    Bergisch Gladbach         195  \n",
       "22                22              Bottrop         142  \n",
       "23                23        Gelsenkirchen         134  \n",
       "24                24              Münster          56  "
      ]
     },
     "execution_count": 552,
     "metadata": {},
     "output_type": "execute_result"
    }
   ],
   "source": [
    "network_data.head(25)"
   ]
  },
  {
   "cell_type": "markdown",
   "id": "ae2d7c30-682b-49be-b156-fff9d86806a7",
   "metadata": {},
   "source": [
    "## Inspecting the dataset"
   ]
  },
  {
   "cell_type": "code",
   "execution_count": 553,
   "id": "155b8e90-b5f8-45ca-833b-782f8ddd9688",
   "metadata": {},
   "outputs": [
    {
     "data": {
      "text/plain": [
       "'01.05.2022'"
      ]
     },
     "execution_count": 553,
     "metadata": {},
     "output_type": "execute_result"
    }
   ],
   "source": [
    "order_data['arrivalDate'].min()"
   ]
  },
  {
   "cell_type": "code",
   "execution_count": 554,
   "id": "faab8572-53c8-4d2f-ad9b-4e85c603144a",
   "metadata": {},
   "outputs": [
    {
     "data": {
      "text/plain": [
       "'10.05.2022'"
      ]
     },
     "execution_count": 554,
     "metadata": {},
     "output_type": "execute_result"
    }
   ],
   "source": [
    "order_data['arrivalDate'].max()"
   ]
  },
  {
   "cell_type": "code",
   "execution_count": 555,
   "id": "46ef6ad8-5efc-41c5-9fcc-538841dcb529",
   "metadata": {},
   "outputs": [
    {
     "data": {
      "text/plain": [
       "'02.05.2022'"
      ]
     },
     "execution_count": 555,
     "metadata": {},
     "output_type": "execute_result"
    }
   ],
   "source": [
    "order_data['dueDate'].min()"
   ]
  },
  {
   "cell_type": "code",
   "execution_count": 556,
   "id": "e92f8a56-3b65-4084-b27c-7b812ac5bc66",
   "metadata": {},
   "outputs": [
    {
     "data": {
      "text/plain": [
       "'12.05.2022'"
      ]
     },
     "execution_count": 556,
     "metadata": {},
     "output_type": "execute_result"
    }
   ],
   "source": [
    "order_data['dueDate'].max()"
   ]
  },
  {
   "cell_type": "markdown",
   "id": "ec7bdf8d-8bec-444a-9f64-5d015f88f963",
   "metadata": {},
   "source": [
    "# Order Allocation Algorithm (OAA)"
   ]
  },
  {
   "cell_type": "markdown",
   "id": "67b5ca76-d54a-4354-a2c5-6441ea5951dd",
   "metadata": {},
   "source": [
    "## Grading System "
   ]
  },
  {
   "cell_type": "markdown",
   "id": "980a265a-44c9-425f-aa65-186434b60f81",
   "metadata": {},
   "source": [
    "A grading system allows to score all orders based on fixed criteria. Afterwards, for each due date, the orders can be batched up to 6 cars per transport vehicle. For the grading system to be efficient, the criteria must optimize the cost of transport routes by minimizing the length while maximizing the amount of delivered cars per transporter."
   ]
  },
  {
   "cell_type": "code",
   "execution_count": 557,
   "id": "36d0ddbf-b00e-48b5-9993-bf21b2527a4c",
   "metadata": {},
   "outputs": [],
   "source": [
    "from datetime import datetime, timedelta\n",
    "\n",
    "def calculate_datetimes(today: str) -> (datetime, datetime, datetime):\n",
    "    # Calculate datetimes for today (t), tomorrow (t+1), TDAD (t+2)\n",
    "    today_datetime = datetime.strptime(today, '%d.%m.%Y')\n",
    "    tomorrow_datetime = today_datetime + timedelta(days=1)\n",
    "    tdat_datetime = tomorrow_datetime + timedelta(days=1)\n",
    "    \n",
    "    return (\n",
    "        today_datetime,\n",
    "        tomorrow_datetime,\n",
    "        tdat_datetime,\n",
    "    )\n",
    "\n",
    "def grade_orders(\n",
    "    orders: pd.DataFrame = order_data,\n",
    "    network: pd.DataFrame = network_data,\n",
    "    today: str = None,\n",
    ") -> (pd.DataFrame, pd.DataFrame, dict[int, int]):\n",
    "    if not today:\n",
    "        today = orders['arrivalDate'].min()\n",
    "    \n",
    "    # Datetimes for today (t), tomorrow (t+1), TDAD (t+2)\n",
    "    today_datetime, tomorrow_datetime, tdat_datetime = calculate_datetimes(today)\n",
    "    \n",
    "    # Reset scores for any previous grading.\n",
    "    # Initially, every orders receives a score of 100 points.\n",
    "    orders['score'] = 1\n",
    "    \n",
    "    # For every order, divide the score S by the number of days D until due date.\n",
    "    # If only D = 1 day remains until due date, the score S is redeclared with S/D = S/1, leaving the score as it is.\n",
    "    # If D > 1 day remains until due date, the score S is redeclared with S / D, decreasing the score.\n",
    "    for index, row in orders.iterrows():\n",
    "        arrival_datetime = datetime.strptime(row['arrivalDate'], '%d.%m.%Y')\n",
    "        due_datetime = datetime.strptime(row['dueDate'], '%d.%m.%Y')\n",
    "        days_delta = (due_datetime - arrival_datetime).days\n",
    "        # Adjust score based on days delta\n",
    "        orders.at[index, 'score'] = row['score'] / days_delta\n",
    "    \n",
    "    \"\"\"\n",
    "    # For every order, multiply the score S with the distance from the center.\n",
    "    for index, row in orders.iterrows():\n",
    "        # Get origin and destination index from order\n",
    "        origin_index = row['originIndex']\n",
    "        destination_index = row['destinationIndex']\n",
    "        # Get distance from the origin (center) to the destination (dealer)\n",
    "        distances = network.query(f\"originIndex == {origin_index} and destinationIndex == {destination_index}\")\n",
    "        assert len(distances) == 1\n",
    "        distance: int = distances['distanceKM']\n",
    "        # Adjust score based on distance from center to destination\n",
    "        orders.at[index, 'score'] = row['score'] * distance\n",
    "    \"\"\"\n",
    "    \n",
    "    # Calculating the mean distance between locations\n",
    "    # TODO: calculating the mean without the distances from the center to the dealers\n",
    "    mean_distance: float = network['distanceKM'].mean()\n",
    "    print('LOG:', 'Mean distance:', mean_distance)\n",
    "    \n",
    "    # Compare every two orders with each other and determine whether their distance is less than the mean distance.\n",
    "    # If their distance is less than the mean, they have a stronger metric relationship compared to other pairs.\n",
    "    # If so, increasing the score will make both of them rank higher in the grading, which increases their possibility of being shipped together.\n",
    "    for index, row in network.iterrows():\n",
    "        origin_index = row['originIndex']\n",
    "        destination_index = row['destinationIndex']\n",
    "        distance = row['distanceKM']\n",
    "        \n",
    "        N = 5\n",
    "        for n in range(1, N + 1):\n",
    "            if distance <= (mean_distance / n):\n",
    "                # - increase scores for origin, destination\n",
    "                X = orders.query(f\"destinationIndex == {destination_index}\")\n",
    "                Y = orders.query(f\"destinationIndex == {origin_index}\")\n",
    "                \n",
    "                for S in [X, Y]:\n",
    "                    for i, r in X.iterrows():\n",
    "                        orders.at[i, 'score'] = r['score'] * n\n",
    "            else:\n",
    "                break\n",
    "    \n",
    "    batches: dict[int, int] = {}\n",
    "    \n",
    "    td: pd.DataFrame = orders.query(f\"arrivalDate == '{today_datetime.strftime('%d.%m.%Y')}' and dueDate == '{tomorrow_datetime.strftime('%d.%m.%Y')}'\")\n",
    "    ttd: pd.DataFrame = orders.query(f\"arrivalDate == '{today_datetime.strftime('%d.%m.%Y')}' and dueDate == '{tdat_datetime.strftime('%d.%m.%Y')}'\")\n",
    "    \n",
    "    deliveries: pd.DataFrame = pd.concat([td, ttd])\n",
    "    \n",
    "    # TODO: sort deliveries by descending score\n",
    "    deliveries = deliveries.sort_values(by='score', ascending=False)\n",
    "    \n",
    "    # Create a mapping between a dealer ID and the number of ordered cars that can or need to be delivered today.\n",
    "    for index, row in deliveries.iterrows():\n",
    "        destination_index = row['destinationIndex']\n",
    "        \n",
    "        if destination_index not in batches.keys():\n",
    "            batches[destination_index] = 1\n",
    "        else:\n",
    "            batches[destination_index] = batches[destination_index] + 1\n",
    "        \n",
    "        # Drop out row to enable data consistency.\n",
    "        # The manipulated dataset should be saved after the algorithm was executed.\n",
    "        orders.drop(axis=0, index=index)\n",
    "    \n",
    "    return (orders, network, batches)"
   ]
  },
  {
   "cell_type": "code",
   "execution_count": 558,
   "id": "9864da9a-d851-4cb2-968f-c6ebee6460fd",
   "metadata": {},
   "outputs": [
    {
     "name": "stdout",
     "output_type": "stream",
     "text": [
      "CPU times: user 1e+03 ns, sys: 1 µs, total: 2 µs\n",
      "Wall time: 3.1 µs\n",
      "LOG: Mean distance: 88.43197278911565\n"
     ]
    }
   ],
   "source": [
    "%time\n",
    "orders, network, batches = grade_orders()"
   ]
  },
  {
   "cell_type": "code",
   "execution_count": 559,
   "id": "05be47a7-a1f3-4d73-8a65-a0f45bf7b593",
   "metadata": {},
   "outputs": [
    {
     "data": {
      "text/plain": [
       "{3: 1,\n",
       " 22: 1,\n",
       " 6: 1,\n",
       " 31: 3,\n",
       " 12: 1,\n",
       " 35: 1,\n",
       " 7: 3,\n",
       " 2: 3,\n",
       " 11: 2,\n",
       " 10: 2,\n",
       " 32: 3,\n",
       " 1: 5,\n",
       " 9: 2,\n",
       " 33: 1,\n",
       " 21: 1,\n",
       " 17: 5,\n",
       " 5: 3,\n",
       " 37: 1,\n",
       " 28: 2,\n",
       " 34: 1,\n",
       " 16: 1,\n",
       " 30: 2,\n",
       " 40: 2,\n",
       " 24: 3}"
      ]
     },
     "execution_count": 559,
     "metadata": {},
     "output_type": "execute_result"
    }
   ],
   "source": [
    "batches"
   ]
  },
  {
   "cell_type": "code",
   "execution_count": 560,
   "id": "370bbc52-ec49-415e-967f-50afe50f124e",
   "metadata": {},
   "outputs": [
    {
     "data": {
      "text/plain": [
       "50"
      ]
     },
     "execution_count": 560,
     "metadata": {},
     "output_type": "execute_result"
    }
   ],
   "source": [
    "# Test for the sum of cars that are being delivered today to make sure that\n",
    "# the number of outgoing cars matches the number of incoming provided ones.\n",
    "S = 0\n",
    "for k, v in batches.items():\n",
    "    S = S + v\n",
    "S"
   ]
  },
  {
   "cell_type": "code",
   "execution_count": 561,
   "id": "97fa1725-6838-4789-bfd8-6ce7765da182",
   "metadata": {},
   "outputs": [],
   "source": [
    "def allocate(batches: dict[int, int]) -> list[list[int]]:\n",
    "    allocations: list[list[int]] = []\n",
    "    \n",
    "    # Iterate over batched orderse to check whether the amount of vehicles exceeds >= 6.\n",
    "    for key, value in batches.items():\n",
    "        if value >= 6:\n",
    "            X = value\n",
    "            while X >= 6:\n",
    "                allocations.append([key for k in range(0, 6)])\n",
    "                X = X - 6\n",
    "            batches[key] = X\n",
    "    \n",
    "    # Group remaining orders to allocations.\n",
    "    # Iterate over the batches in a chronological order, with ensures\n",
    "    # that the orders are allocated in the hierarchy of the scoring.\n",
    "    for k_x, v_x in batches.items():\n",
    "        allocation: list[int] = list()\n",
    "        leftover: int = 6 - v_x\n",
    "        \n",
    "        for i in range(0, v_x):\n",
    "            allocation.append(k_x)\n",
    "        \n",
    "        assert len(allocation) == v_x\n",
    "        \n",
    "        batches[k_x] = 0\n",
    "        \n",
    "        for k_y, v_y in batches.items():\n",
    "            if k_x != k_y:\n",
    "                if v_y == leftover:\n",
    "                    for i in range(0, v_y):\n",
    "                        allocation.append(k_y)\n",
    "                    batches[k_y] = 0\n",
    "                    break\n",
    "                else:\n",
    "                    continue\n",
    "        \n",
    "        allocations.append(allocation)\n",
    "    \n",
    "    # Fill available slots in the allocations.\n",
    "    for A in allocations:\n",
    "        L = len(A)\n",
    "        if L < 6:\n",
    "            allocation: list[int] = list()\n",
    "            allocations.remove(A)\n",
    "            allocation = [*A]\n",
    "            slots: int = 6 - L\n",
    "            for B in allocations:\n",
    "                if len(B) == slots:\n",
    "                    allocations.remove(B)\n",
    "                    allocation = [*allocation, *B]\n",
    "                    break\n",
    "                elif len(B) < slots:\n",
    "                    allocations.remove(B)\n",
    "                    allocation = [*allocation, *B]\n",
    "                    slots = slots - len(B)\n",
    "                    \n",
    "            allocations.append(allocation)\n",
    "            \n",
    "    \n",
    "    assert len(allocations) <= 10\n",
    "    \n",
    "    return allocations"
   ]
  },
  {
   "cell_type": "code",
   "execution_count": 562,
   "id": "1f74a9c1-a792-476b-96c9-76807a6e71e4",
   "metadata": {},
   "outputs": [
    {
     "name": "stdout",
     "output_type": "stream",
     "text": [
      "CPU times: user 1e+03 ns, sys: 0 ns, total: 1e+03 ns\n",
      "Wall time: 3.1 µs\n"
     ]
    },
    {
     "data": {
      "text/plain": [
       "[[3, 1, 1, 1, 1, 1],\n",
       " [22, 17, 17, 17, 17, 17],\n",
       " [31, 31, 31, 7, 7, 7],\n",
       " [2, 2, 2, 32, 32, 32],\n",
       " [5, 5, 5, 24, 24, 24],\n",
       " [6, 12, 11, 11, 9, 9],\n",
       " [35, 10, 10, 33, 37, 34],\n",
       " [16, 40, 40],\n",
       " [21, 28, 28, 30, 30]]"
      ]
     },
     "execution_count": 562,
     "metadata": {},
     "output_type": "execute_result"
    }
   ],
   "source": [
    "%time\n",
    "allocations: list[list[int]] = allocate(batches)\n",
    "allocations"
   ]
  },
  {
   "cell_type": "code",
   "execution_count": 563,
   "id": "f50cddd2-8197-46a8-aa0f-38af82e40931",
   "metadata": {},
   "outputs": [
    {
     "data": {
      "text/plain": [
       "50"
      ]
     },
     "execution_count": 563,
     "metadata": {},
     "output_type": "execute_result"
    }
   ],
   "source": [
    "S = 0\n",
    "for A in allocations:\n",
    "    S = S + len(A)\n",
    "S"
   ]
  },
  {
   "cell_type": "markdown",
   "id": "3ee4dfd6-7693-418c-8f56-f1c37d67c1d7",
   "metadata": {},
   "source": [
    "## Route Optimization"
   ]
  },
  {
   "cell_type": "code",
   "execution_count": 564,
   "id": "91a127ab-f987-4529-882b-31e43e35a3f2",
   "metadata": {},
   "outputs": [],
   "source": [
    "from typing import Union\n",
    "\n",
    "def distance(\n",
    "    originIndex: int,\n",
    "    destinationIndex: int,\n",
    "    network: pd.DataFrame = network,\n",
    ") -> Union[int, None]:\n",
    "    for index, row in network.iterrows():\n",
    "        if row['originIndex'] == originIndex and row['destinationIndex'] == destinationIndex:\n",
    "            return row['distanceKM']"
   ]
  },
  {
   "cell_type": "code",
   "execution_count": 565,
   "id": "8ea940c3-a72d-454c-a2fb-1884f7541e55",
   "metadata": {},
   "outputs": [],
   "source": [
    "from typing import Union\n",
    "\n",
    "def query_station_index(\n",
    "    station_name: str,\n",
    "    network: pd.DataFrame = network,\n",
    ") -> Union[int, None]:\n",
    "    for index, row in network.iterrows():\n",
    "        if row['originName'] == station_name:\n",
    "            return row['originIndex']"
   ]
  },
  {
   "cell_type": "code",
   "execution_count": 566,
   "id": "79e1033e-a426-46dd-abb7-24117840e303",
   "metadata": {},
   "outputs": [],
   "source": [
    "def find_next(i, l):\n",
    "    # find the shortest route betwteen dealer i and others\n",
    "    x = len(l) - 1\n",
    "    dis_tmp = distance(i, l[x])\n",
    "    ct = l[x]\n",
    "    for n in range(x):\n",
    "        if dis_tmp > distance(i, l[n]):\n",
    "            dis_tmp = distance(i, l[n])\n",
    "            ct = l[n]\n",
    "    return ct\n",
    "\n",
    "def direction(route):\n",
    "    city_forwards = 0\n",
    "    cars_forwards = len(route) - 2\n",
    "    city_backwards = len(route) - 2\n",
    "    cars_backwards = cars_forwards\n",
    "    go_forward = 0\n",
    "    go_reverse = 0\n",
    "    l = len(route)\n",
    "    for i in range(l - 1):\n",
    "        go_forward += distance(route[city_forwards], route[city_forwards + 1]) * cars_forwards\n",
    "        cars_forwards -= 1\n",
    "        city_forwards += 1\n",
    "    for i in range(l - 1):\n",
    "        go_reverse += distance(route[city_backwards], route[city_backwards - 1]) * cars_backwards\n",
    "        cars_backwards -= 1\n",
    "        city_backwards -= 1\n",
    "    if go_reverse < go_forward:\n",
    "        route.reverse()\n",
    "    return route\n",
    "\n",
    "def find_route(\n",
    "    l: list[int],\n",
    "    station_name: str = 'Wuppertal',\n",
    "    network: pd.DataFrame = network,\n",
    "):\n",
    "    station_index: int = query_station_index(station_name=station_name, network=network)\n",
    "    assert station_index != None\n",
    "    \n",
    "    c_l: list[int] = list()\n",
    "    for i in range(len(l)):\n",
    "        c_l.append(l[i])\n",
    "    length = len(c_l)\n",
    "    route: list[int] = list()\n",
    "    route.append(station_index)\n",
    "    for m in range(length):\n",
    "        l = len(route)\n",
    "        x = find_next(route[l - 1], c_l)\n",
    "        route.append(x)\n",
    "        c_l.remove(x)\n",
    "    route.append(station_index)\n",
    "    direction(route)\n",
    "    return route"
   ]
  },
  {
   "cell_type": "code",
   "execution_count": 567,
   "id": "415348ac-40a3-418a-b149-6804680a21c2",
   "metadata": {},
   "outputs": [],
   "source": [
    "def optimize_allocations(allocations: list[list[int]]) -> list[list[int]]:\n",
    "    optimized_allocations: list[list[int]] = list()\n",
    "    \n",
    "    for allocation in allocations:\n",
    "        A: list[int] = find_route(allocation)\n",
    "        optimized_allocations.append(A)\n",
    "    \n",
    "    return optimized_allocations"
   ]
  },
  {
   "cell_type": "code",
   "execution_count": 568,
   "id": "0c2f6bd7-67b0-4b27-84dc-4723a756146b",
   "metadata": {},
   "outputs": [
    {
     "data": {
      "text/plain": [
       "[[10, 1, 1, 1, 1, 1, 3, 10],\n",
       " [10, 17, 17, 17, 17, 17, 22, 10],\n",
       " [10, 7, 7, 7, 31, 31, 31, 10],\n",
       " [10, 2, 2, 2, 32, 32, 32, 10],\n",
       " [10, 24, 24, 24, 5, 5, 5, 10],\n",
       " [10, 9, 9, 11, 11, 6, 12, 10],\n",
       " [10, 10, 10, 33, 37, 34, 35, 10],\n",
       " [10, 40, 40, 16, 10],\n",
       " [10, 28, 28, 30, 30, 21, 10]]"
      ]
     },
     "execution_count": 568,
     "metadata": {},
     "output_type": "execute_result"
    }
   ],
   "source": [
    "optimized_allocations: list[list[int]] = optimize_allocations(allocations)\n",
    "optimized_allocations"
   ]
  },
  {
   "cell_type": "code",
   "execution_count": 569,
   "id": "413dfc04-c633-4d88-b3ad-d8115d4a316b",
   "metadata": {},
   "outputs": [
    {
     "data": {
      "text/plain": [
       "68"
      ]
     },
     "execution_count": 569,
     "metadata": {},
     "output_type": "execute_result"
    }
   ],
   "source": [
    "S = 0\n",
    "for A in optimized_allocations:\n",
    "    S = S + len(A)\n",
    "S"
   ]
  },
  {
   "cell_type": "code",
   "execution_count": 570,
   "id": "299d5a66-0151-4466-a345-cd7f7aac1408",
   "metadata": {},
   "outputs": [],
   "source": [
    "def calculate_cumulative_distance(allocations: list[list[int]]) -> int:\n",
    "    S: int = 0\n",
    "    \n",
    "    for A in allocations:\n",
    "        for i in range(1, len(A)):\n",
    "            d: int = distance(A[i-1], A[i])\n",
    "            S = S + d\n",
    "\n",
    "    return S"
   ]
  },
  {
   "cell_type": "code",
   "execution_count": 571,
   "id": "f09cabfb-3923-4fdd-8358-d15b95381cb9",
   "metadata": {},
   "outputs": [
    {
     "data": {
      "text/plain": [
       "1918"
      ]
     },
     "execution_count": 571,
     "metadata": {},
     "output_type": "execute_result"
    }
   ],
   "source": [
    "total_distance: int = calculate_cumulative_distance(optimized_allocations)\n",
    "total_distance"
   ]
  },
  {
   "cell_type": "code",
   "execution_count": 572,
   "id": "c6062462-7f4f-4096-a01b-3f65adfa4a9a",
   "metadata": {},
   "outputs": [
    {
     "data": {
      "text/plain": [
       "38.36"
      ]
     },
     "execution_count": 572,
     "metadata": {},
     "output_type": "execute_result"
    }
   ],
   "source": [
    "average_distance = total_distance / (S - (len(optimized_allocations) * 2))\n",
    "average_distance"
   ]
  }
 ],
 "metadata": {
  "kernelspec": {
   "display_name": "Python 3 (ipykernel)",
   "language": "python",
   "name": "python3"
  },
  "language_info": {
   "codemirror_mode": {
    "name": "ipython",
    "version": 3
   },
   "file_extension": ".py",
   "mimetype": "text/x-python",
   "name": "python",
   "nbconvert_exporter": "python",
   "pygments_lexer": "ipython3",
   "version": "3.9.13"
  },
  "vscode": {
   "interpreter": {
    "hash": "b0fa6594d8f4cbf19f97940f81e996739fb7646882a419484c72d19e05852a7e"
   }
  }
 },
 "nbformat": 4,
 "nbformat_minor": 5
}
